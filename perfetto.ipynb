{
 "cells": [
  {
   "cell_type": "code",
   "execution_count": 4,
   "id": "28f21da6",
   "metadata": {},
   "outputs": [
    {
     "name": "stdout",
     "output_type": "stream",
     "text": [
      "✅ simple_mlp_trace.json written successfully.\n"
     ]
    }
   ],
   "source": [
    "import torch\n",
    "import torch.nn as nn\n",
    "import tg4perfetto\n",
    "\n",
    "class SimpleMLP(nn.Module):\n",
    "    def __init__(self):\n",
    "        super().__init__()\n",
    "        self.fc1 = nn.Linear(10, 64)\n",
    "        self.relu = nn.ReLU()\n",
    "        self.fc2 = nn.Linear(64, 1)\n",
    "\n",
    "    def forward(self, x):\n",
    "        x = self.fc1(x)\n",
    "        x = self.relu(x)\n",
    "        x = self.fc2(x)\n",
    "        return x\n",
    "\n",
    "model = SimpleMLP()\n",
    "x = torch.randn(1, 10)\n",
    "\n",
    "track_fc1 = tg4perfetto.track(\"FC1\")\n",
    "track_relu = tg4perfetto.track(\"ReLU\")\n",
    "track_fc2 = tg4perfetto.track(\"FC2\")\n",
    "\n",
    "with tg4perfetto.open(\"simple_mlp_trace.json\"):\n",
    "    with torch.no_grad():\n",
    "        with tg4perfetto.track(\"Model\").trace(\"Forward Pass\"):\n",
    "            with track_fc1.trace(\"FC1\"):\n",
    "                x = model.fc1(x)\n",
    "            with track_relu.trace(\"ReLU\"):\n",
    "                x = model.relu(x)\n",
    "            with track_fc2.trace(\"FC2\"):\n",
    "                x = model.fc2(x)\n",
    "\n",
    "print(\"✅ simple_mlp_trace.json written successfully.\")\n"
   ]
  }
 ],
 "metadata": {
  "kernelspec": {
   "display_name": "langgraph",
   "language": "python",
   "name": "python3"
  },
  "language_info": {
   "codemirror_mode": {
    "name": "ipython",
    "version": 3
   },
   "file_extension": ".py",
   "mimetype": "text/x-python",
   "name": "python",
   "nbconvert_exporter": "python",
   "pygments_lexer": "ipython3",
   "version": "3.11.11"
  }
 },
 "nbformat": 4,
 "nbformat_minor": 5
}
